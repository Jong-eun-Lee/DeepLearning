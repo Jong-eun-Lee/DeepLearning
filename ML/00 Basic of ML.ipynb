{
 "cells": [
  {
   "cell_type": "markdown",
   "metadata": {},
   "source": [
    "# 00 Basic of ML\n",
    "### by Lee Jong-eun"
   ]
  },
  {
   "cell_type": "markdown",
   "metadata": {},
   "source": [
    "Machine Learning -> Application을 일일이 수정하지 않고도 데이터를 기반으로 패턴을 학습하고 결과를 예측하게 하는 알고리즘으로 볼 수 있다.\n",
    "(Arthur Samuel은 1959년에 ML을 'field of study that gives computers the ability to learn without being explicitly programmed'라고 정의함)\n",
    "\n",
    "---\n",
    "\n",
    "파이썬을 쓰는 이유 -> 개발 생산성, 지원 패키지 등. 임베디드 영역에선 C/C++, JAVA 등이 더 쓰일 수 있음"
   ]
  },
  {
   "cell_type": "code",
   "execution_count": 5,
   "metadata": {},
   "outputs": [],
   "source": [
    "# Private repository에 있는 소스 코드 이전 예정."
   ]
  },
  {
   "cell_type": "code",
   "execution_count": 6,
   "metadata": {},
   "outputs": [],
   "source": [
    "# "
   ]
  }
 ],
 "metadata": {
  "kernelspec": {
   "display_name": "Python 3",
   "language": "python",
   "name": "python3"
  },
  "language_info": {
   "codemirror_mode": {
    "name": "ipython",
    "version": 3
   },
   "file_extension": ".py",
   "mimetype": "text/x-python",
   "name": "python",
   "nbconvert_exporter": "python",
   "pygments_lexer": "ipython3",
   "version": "3.8.3"
  }
 },
 "nbformat": 4,
 "nbformat_minor": 4
}
